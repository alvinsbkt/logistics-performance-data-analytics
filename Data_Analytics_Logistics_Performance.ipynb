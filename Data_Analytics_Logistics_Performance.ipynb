{
  "nbformat": 4,
  "nbformat_minor": 0,
  "metadata": {
    "colab": {
      "name": "Shopee Codeleague_Data Analytics_Logistics.ipynb",
      "provenance": [],
      "collapsed_sections": [
        "YFFV4W36o4_M",
        "Ib4LWFBTpI3C",
        "QIPO4A9XIOFP"
      ],
      "include_colab_link": true
    },
    "kernelspec": {
      "name": "python3",
      "display_name": "Python 3"
    }
  },
  "cells": [
    {
      "cell_type": "markdown",
      "metadata": {
        "id": "view-in-github",
        "colab_type": "text"
      },
      "source": [
        "<a href=\"https://colab.research.google.com/github/alvinsbkt/logistics-performance-data-analytics/blob/main/Data_Analytics_Logistics_Performance.ipynb\" target=\"_parent\"><img src=\"https://colab.research.google.com/assets/colab-badge.svg\" alt=\"Open In Colab\"/></a>"
      ]
    },
    {
      "cell_type": "markdown",
      "metadata": {
        "id": "oCvlcc4iJ5J0"
      },
      "source": [
        "It is a Data analysis competition organized by shopee with the problem statement can be accessed [here](https://www.kaggle.com/c/logistics-shopee-code-league/overview)"
      ]
    },
    {
      "cell_type": "markdown",
      "metadata": {
        "id": "VNjFisg6Jv2u"
      },
      "source": [
        "#Preparation"
      ]
    },
    {
      "cell_type": "code",
      "metadata": {
        "id": "oAZQ4VSZfLVB"
      },
      "source": [
        "!pip install kaggle #installation module kaggle package\n",
        "!apt-get install -y fuse-zip #installation fusezip to unzip dataset"
      ],
      "execution_count": null,
      "outputs": []
    },
    {
      "cell_type": "code",
      "metadata": {
        "id": "OYlG3g3qgWdS"
      },
      "source": [
        "import os\n",
        "os.environ['KAGGLE_USERNAME'] = \"***insuba***\" #use your own kaggle username and API key\n",
        "os.environ['KAGGLE_KEY'] = \"*****c44ee6619a3931737cfe25*****\" #hidden"
      ],
      "execution_count": null,
      "outputs": []
    },
    {
      "cell_type": "code",
      "metadata": {
        "id": "oQnU7KYKe6a_",
        "outputId": "da608a31-d70e-4708-fc94-08d8972c4532",
        "colab": {
          "base_uri": "https://localhost:8080/",
          "height": 142
        }
      },
      "source": [
        "!kaggle competitions download -c logistics-shopee-code-league #download data"
      ],
      "execution_count": null,
      "outputs": [
        {
          "output_type": "stream",
          "text": [
            "Warning: Looks like you're using an outdated API Version, please consider updating (server 1.5.6 / client 1.5.4)\n",
            "Downloading SLA_matrix.xlsx to /content\n",
            "  0% 0.00/9.01k [00:00<?, ?B/s]\n",
            "100% 9.01k/9.01k [00:00<00:00, 10.1MB/s]\n",
            "Downloading delivery_orders_march.csv.zip to /content\n",
            " 99% 379M/381M [00:04<00:00, 102MB/s] \n",
            "100% 381M/381M [00:04<00:00, 90.2MB/s]\n"
          ],
          "name": "stdout"
        }
      ]
    },
    {
      "cell_type": "code",
      "metadata": {
        "id": "RjdFrFTFfL0F",
        "outputId": "e4d3b4ca-b0fc-4728-84a4-e8e9bd095fd5",
        "colab": {
          "base_uri": "https://localhost:8080/",
          "height": 35
        }
      },
      "source": [
        "input_dir = \"/tmp/kaggle-data\"\n",
        "!mkdir {input_dir}\n",
        "!fuse-zip /content/delivery_orders_march.csv.zip {input_dir} #unzipping dataset file from kaggle\n",
        "!ls {input_dir} #checking unzip folder result"
      ],
      "execution_count": null,
      "outputs": [
        {
          "output_type": "stream",
          "text": [
            "delivery_orders_march.csv\n"
          ],
          "name": "stdout"
        }
      ]
    },
    {
      "cell_type": "code",
      "metadata": {
        "id": "PWvppeWNg2hA"
      },
      "source": [
        "import pandas as pd\n",
        "import time\n",
        "import math\n",
        "from datetime import date, timedelta\n",
        "import datetime"
      ],
      "execution_count": null,
      "outputs": []
    },
    {
      "cell_type": "code",
      "metadata": {
        "id": "KPd606mriwks"
      },
      "source": [
        "df=pd.read_csv(\"/tmp/kaggle-data/delivery_orders_march.csv\") #get unzipped dataset to notebook"
      ],
      "execution_count": null,
      "outputs": []
    },
    {
      "cell_type": "markdown",
      "metadata": {
        "id": "YFFV4W36o4_M"
      },
      "source": [
        "#Getting Time\n",
        "obtaining readable and proccesable time data from the dataset and put it to a new column"
      ]
    },
    {
      "cell_type": "code",
      "metadata": {
        "id": "VOdLb2LChsnC"
      },
      "source": [
        "def gettime(x):\n",
        "  if math.isnan(x):\n",
        "    return x\n",
        "  else:\n",
        "    return time.gmtime(x).tm_yday\n",
        "\n",
        "df['first_time']=df['1st_deliver_attempt'].apply(lambda x: time.gmtime(x).tm_yday)\n",
        "df['second_time']=df['2nd_deliver_attempt'].apply(lambda x: gettime(x))"
      ],
      "execution_count": null,
      "outputs": []
    },
    {
      "cell_type": "markdown",
      "metadata": {
        "id": "Ib4LWFBTpI3C"
      },
      "source": [
        "#Getting Location\n",
        "Obtaining readable and proccesable data of location of both buyers and sellers, it is done by annotating each location with a unique integer"
      ]
    },
    {
      "cell_type": "markdown",
      "metadata": {
        "id": "ZTaetw8TpWB5"
      },
      "source": [
        "There are 4 distinct locations for both the address of buyers and sellers. There are Metro Manila, Luzon, Visayas, and Mindana. Each locations will be annotated with 1,2,3, and 4 respectively.\n",
        "\n",
        "Then the Service Level Agreement which depends on the sellers address and buyers address are determined and put in a new column"
      ]
    },
    {
      "cell_type": "code",
      "metadata": {
        "id": "unBcyCwXpf5F"
      },
      "source": [
        "#getting location of buyers\n",
        "df[df['buyeraddress'].str.contains(\"metro manila\",case=False)].index\n",
        "df.loc[df['buyeraddress'].str.contains(\"metro manila\",case=False),'buyer']=1\n",
        "df.loc[df['buyeraddress'].str.contains(\"luzon\",case=False),'buyer']=2\n",
        "df.loc[df['buyeraddress'].str.contains(\"visayas\",case=False),'buyer']=3\n",
        "df.loc[df['buyeraddress'].str.contains(\"mindanao\",case=False),'buyer']=4"
      ],
      "execution_count": null,
      "outputs": []
    },
    {
      "cell_type": "code",
      "metadata": {
        "id": "YJmzMlAUrZOX",
        "outputId": "844c3800-eb52-413f-acb4-762c4104eed6",
        "colab": {
          "base_uri": "https://localhost:8080/",
          "height": 106
        }
      },
      "source": [
        "df['buyer'].value_counts()"
      ],
      "execution_count": null,
      "outputs": [
        {
          "output_type": "execute_result",
          "data": {
            "text/plain": [
              "1.0    1559099\n",
              "2.0     805484\n",
              "3.0     479986\n",
              "4.0     331744\n",
              "Name: buyer, dtype: int64"
            ]
          },
          "metadata": {
            "tags": []
          },
          "execution_count": 77
        }
      ]
    },
    {
      "cell_type": "code",
      "metadata": {
        "id": "OoOgs9bgrb1W"
      },
      "source": [
        "#getting location of sellers\n",
        "df.loc[df['selleraddress'].str.contains(\"metro manila\",case=False),'seller']=1\n",
        "df.loc[df['selleraddress'].str.contains(\"luzon\",case=False),'seller']=2\n",
        "df.loc[df['selleraddress'].str.contains(\"visayas\",case=False),'seller']=3\n",
        "df.loc[df['selleraddress'].str.contains(\"mindanao\",case=False),'seller']=4"
      ],
      "execution_count": null,
      "outputs": []
    },
    {
      "cell_type": "code",
      "metadata": {
        "id": "FeAuITCRpE5z",
        "outputId": "53a1a943-71c9-49cf-cb8d-870a175502ab",
        "colab": {
          "base_uri": "https://localhost:8080/",
          "height": 71
        }
      },
      "source": [
        "df['seller'].value_counts() #turned out there are only two distinct locations for sellers"
      ],
      "execution_count": null,
      "outputs": [
        {
          "output_type": "execute_result",
          "data": {
            "text/plain": [
              "1.0    3173960\n",
              "2.0       2353\n",
              "Name: seller, dtype: int64"
            ]
          },
          "metadata": {
            "tags": []
          },
          "execution_count": 79
        }
      ]
    },
    {
      "cell_type": "code",
      "metadata": {
        "id": "dvGEL8JnzZWX"
      },
      "source": [
        "def getsla(x):\n",
        "  if (x[0]==1 and x[1]==1):\n",
        "    return 3\n",
        "  elif (x[0]==2 and x[1]==1) or (x[0]==2 and x[1]==2) or (x[0]==1 and x[1]==2):\n",
        "    return 5\n",
        "  else:\n",
        "    return 7\n",
        "\n",
        "df['sla']=df[['buyer','seller']].apply(lambda x:getsla(x),axis=1) #getting the SLA for every row"
      ],
      "execution_count": null,
      "outputs": []
    },
    {
      "cell_type": "markdown",
      "metadata": {
        "id": "QIPO4A9XIOFP"
      },
      "source": [
        "#Counting Logistic Days"
      ]
    },
    {
      "cell_type": "markdown",
      "metadata": {
        "id": "2BJWXoh_IWs-"
      },
      "source": [
        "First we need to check the day of the year of sundays within the range of the logistic, also the day of the year where it is a holiday"
      ]
    },
    {
      "cell_type": "code",
      "metadata": {
        "id": "jzpht_tc1ker",
        "outputId": "a0a602d3-5351-4ed5-9d73-cc5e3b3c5884",
        "colab": {
          "base_uri": "https://localhost:8080/",
          "height": 178
        }
      },
      "source": [
        "#to check the dates which are sundays\n",
        "def allsundays(year):\n",
        "   d = date(year, 3, 1)                    # March 1st\n",
        "   d += timedelta(days = 6 - d.weekday())  # First Sunday\n",
        "   while d.year == year and d.month<=4:\n",
        "      yield d\n",
        "      d += timedelta(days = 7)\n",
        "\n",
        "for d in allsundays(2020):\n",
        "   print(d)"
      ],
      "execution_count": null,
      "outputs": [
        {
          "output_type": "stream",
          "text": [
            "2020-03-01\n",
            "2020-03-08\n",
            "2020-03-15\n",
            "2020-03-22\n",
            "2020-03-29\n",
            "2020-04-05\n",
            "2020-04-12\n",
            "2020-04-19\n",
            "2020-04-26\n"
          ],
          "name": "stdout"
        }
      ]
    },
    {
      "cell_type": "markdown",
      "metadata": {
        "id": "f8Ubyyf9Ix4e"
      },
      "source": [
        "The weekends (sunday) are:\n",
        "\n",
        "2020-03-01\n",
        "\n",
        "2020-03-08\n",
        "\n",
        "2020-03-15\n",
        "\n",
        "2020-03-22\n",
        "\n",
        "2020-03-29\n",
        "\n",
        "2020-04-05 (still within the range)\n",
        "\n",
        "With the following holidays:\n",
        "\n",
        "2020-03-08 (Sunday);\n",
        "\n",
        "2020-03-25 (Wednesday);\n",
        "\n",
        "2020-03-30 (Monday);\n",
        "\n",
        "2020-03-31 (Tuesday)\n"
      ]
    },
    {
      "cell_type": "code",
      "metadata": {
        "id": "_QCDpVA68RG5",
        "outputId": "48d6b7c6-a3bd-41a5-f09d-7296f4041a42",
        "colab": {
          "base_uri": "https://localhost:8080/",
          "height": 53
        }
      },
      "source": [
        "#used to check the day in the year for all of the sundays and holidays\n",
        "timestamp = datetime.datetime(2020, 4, 5, 0, 0).timestamp()\n",
        "print(timestamp)\n",
        "time.gmtime(timestamp).tm_yday"
      ],
      "execution_count": null,
      "outputs": [
        {
          "output_type": "stream",
          "text": [
            "1586044800.0\n"
          ],
          "name": "stdout"
        },
        {
          "output_type": "execute_result",
          "data": {
            "text/plain": [
              "96"
            ]
          },
          "metadata": {
            "tags": []
          },
          "execution_count": 117
        }
      ]
    },
    {
      "cell_type": "code",
      "metadata": {
        "id": "Jvk2B2ns827Z",
        "outputId": "458c26cc-ccd4-4722-986d-255775cbf4b4",
        "colab": {
          "base_uri": "https://localhost:8080/",
          "height": 35
        }
      },
      "source": [
        "exclude=[61,68,75,82,85,89,90,91,96] #list filled with days that the logistics do not operate"
      ],
      "execution_count": null,
      "outputs": [
        {
          "output_type": "execute_result",
          "data": {
            "text/plain": [
              "61"
            ]
          },
          "metadata": {
            "tags": []
          },
          "execution_count": 118
        }
      ]
    },
    {
      "cell_type": "code",
      "metadata": {
        "id": "IBraHVx_9tsm"
      },
      "source": [
        "#defined a function to annotate whether the package is late or not given the informations provided\n",
        "def getdif(x):\n",
        "  a=x[1].copy()\n",
        "  for i in range(len(exclude)):\n",
        "    if x[2]<=exclude[i]<=x[1]:\n",
        "      a=a-1    \n",
        "  if a-x[2]>x[3]:\n",
        "    return 1\n",
        "  else:\n",
        "    if math.isnan(x[0])==False:\n",
        "      a=x[0].copy()\n",
        "      for i in range(len(exclude)):\n",
        "        if x[1]<=exclude[i]<=x[0]:\n",
        "          a=a-1\n",
        "      if a-x[1]>3:\n",
        "        return 1\n",
        "      else:\n",
        "        return 0\n",
        "    else:\n",
        "      return 0"
      ],
      "execution_count": null,
      "outputs": []
    },
    {
      "cell_type": "code",
      "metadata": {
        "id": "x73lwPWFJTwG"
      },
      "source": [
        "df['is_late']=df[['second_time','first_time','pick_time','lsa']].apply(lambda x:getdif(x),axis=1) #made a new column is_late filled with the label"
      ],
      "execution_count": null,
      "outputs": []
    },
    {
      "cell_type": "code",
      "metadata": {
        "id": "jItNMAjNxhyU"
      },
      "source": [
        "#saving and exporting\n",
        "df_save=df[['orderid','is_late']]\n",
        "df_save.to_csv(\"/content/submission5_rev.csv\",index=False)"
      ],
      "execution_count": null,
      "outputs": []
    }
  ]
}